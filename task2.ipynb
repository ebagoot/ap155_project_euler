{
 "cells": [
  {
   "cell_type": "markdown",
   "id": "5eac3796",
   "metadata": {},
   "source": [
    "#   Problem 2\n",
    "### [#9 in most popular](https://projecteuler.net/problem=9)\n",
    "\n",
    "A Pythagorean triplet is a set of three natural numbers, $a \\lt b \\lt c$, for which, $$a^2 + b^2 = c^2$$\n",
    "\n",
    "There exists exactly one Pythagorean triplet for which $a+b+c=1000$.\n",
    "Find the product $abc$."
   ]
  },
  {
   "cell_type": "code",
   "execution_count": null,
   "id": "1a8c524a",
   "metadata": {},
   "outputs": [],
   "source": [
    "import numpy as np\n",
    "import matplotlib.pyplot as plt"
   ]
  },
  {
   "cell_type": "markdown",
   "id": "22d3f212",
   "metadata": {},
   "source": [
    "We try to generate pythagorean triplets such that the sum of the squares of two numbers is also a square in itself.\n",
    "- We simply generate two numbers, square each and then add together.\n",
    "- Their sum is then checked if it is a perfect square via the square root function, and then modulo dividing it.\n",
    "    - If the modulus is 0, then it would be a square number. This third number is then stored in a third variable. </br>\n",
    "\n",
    "\n",
    "The above protocol is then wrapped in a loop until the specific parameters are met:\n",
    "- the sum of the three numbers are in 1000.\n",
    "We can keep this a compet check every loop.\n",
    "\n",
    "The square root of 1000 is around 31, so it is a good arbitrary ending point for generating numbers as the summands won't likely surpass that number."
   ]
  },
  {
   "cell_type": "code",
   "execution_count": null,
   "id": "76739510",
   "metadata": {},
   "outputs": [
    {
     "ename": "IndentationError",
     "evalue": "expected an indented block after function definition on line 11 (4141292995.py, line 13)",
     "output_type": "error",
     "traceback": [
      "\u001b[0;36m  Cell \u001b[0;32mIn[1], line 13\u001b[0;36m\u001b[0m\n\u001b[0;31m    for i, j in range(max):\u001b[0m\n\u001b[0m    ^\u001b[0m\n\u001b[0;31mIndentationError\u001b[0m\u001b[0;31m:\u001b[0m expected an indented block after function definition on line 11\n"
     ]
    }
   ],
   "source": [
    "a = 0\n",
    "b = 0\n",
    "c = 0\n",
    "max = 1000\n",
    "\n",
    "def triplet_check(a,b,c):\n",
    "    if (a*b*c != 1000): return False\n",
    "    else: return True\n",
    "\n",
    "def triplet(a,b):\n",
    "    return (a**2)+(b**2)\n",
    "\n",
    "def generator():\n",
    "    \n",
    "    pass\n",
    "\n",
    "for i, j in range(max):\n",
    "    while (a*b*c != 1000):\n",
    "        c = triplet(a,b)\n",
    "\n",
    "        pass\n",
    "\n",
    "def answer():\n",
    "    #       RUN FUNCTIONS HERE\n",
    "    return print()"
   ]
  },
  {
   "cell_type": "code",
   "execution_count": null,
   "id": "b56eb032",
   "metadata": {},
   "outputs": [],
   "source": []
  }
 ],
 "metadata": {
  "kernelspec": {
   "display_name": "base",
   "language": "python",
   "name": "python3"
  },
  "language_info": {
   "codemirror_mode": {
    "name": "ipython",
    "version": 3
   },
   "file_extension": ".py",
   "mimetype": "text/x-python",
   "name": "python",
   "nbconvert_exporter": "python",
   "pygments_lexer": "ipython3",
   "version": "3.12.4"
  }
 },
 "nbformat": 4,
 "nbformat_minor": 5
}
