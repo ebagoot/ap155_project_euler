{
 "cells": [
  {
   "cell_type": "markdown",
   "id": "5eac3796",
   "metadata": {},
   "source": [
    "#   Problem 2\n",
    "### [#9 in most popular](https://projecteuler.net/problem=9)\n",
    "\n",
    "A Pythagorean triplet is a set of three natural numbers, $a \\lt b \\lt c$, for which, $$a^2 + b^2 = c^2$$\n",
    "\n",
    "There exists exactly one Pythagorean triplet for which $a+b+c=1000$.\n",
    "Find the product $abc$."
   ]
  },
  {
   "cell_type": "code",
   "execution_count": null,
   "id": "1a8c524a",
   "metadata": {},
   "outputs": [],
   "source": [
    "import numpy as np\n",
    "import matplotlib.pyplot as plt"
   ]
  },
  {
   "cell_type": "markdown",
   "id": "22d3f212",
   "metadata": {},
   "source": [
    "We try to generate pythagorean triplets such that the sum of the squares of two numbers is also a square in itself.\n",
    "- We simply generate two numbers, square each and then add together.\n",
    "- Their sum is then checked if it is a perfect square via the square root function, and then modulo dividing it.\n",
    "    - If the modulus is 0, then it would be a square number. This third number is then stored in a third variable. </br>\n",
    "\n",
    "\n",
    "The above protocol is then wrapped in a loop until the specific parameters are met:\n",
    "- the sum of the three numbers are in 1000.\n",
    "We can keep this a compet check every loop.\n",
    "\n",
    "The square root of 1000 is around 31, so it is a good arbitrary starting point for "
   ]
  },
  {
   "cell_type": "code",
   "execution_count": null,
   "id": "76739510",
   "metadata": {},
   "outputs": [],
   "source": [
    "a = 0\n",
    "b = 0\n",
    "c = 0\n",
    "max = 1000\n",
    "\n",
    "while (a*b*c != 1000):\n",
    "    for i in range(max):\n",
    "        \n",
    "        pass"
   ]
  }
 ],
 "metadata": {
  "kernelspec": {
   "display_name": "base",
   "language": "python",
   "name": "python3"
  },
  "language_info": {
   "name": "python",
   "version": "3.12.4"
  }
 },
 "nbformat": 4,
 "nbformat_minor": 5
}
