{
 "cells": [
  {
   "cell_type": "markdown",
   "id": "5eac3796",
   "metadata": {},
   "source": [
    "#   Problem 2\n",
    "### [#9 in most popular](https://projecteuler.net/problem=9)\n",
    "\n",
    "A Pythagorean triplet is a set of three natural numbers, $a \\lt b \\lt c$, for which, $$a^2 + b^2 = c^2$$\n",
    "\n",
    "There exists exactly one Pythagorean triplet for which $a+b+c=1000$.\n",
    "Find the product $abc$."
   ]
  },
  {
   "cell_type": "code",
   "execution_count": null,
   "id": "1a8c524a",
   "metadata": {},
   "outputs": [],
   "source": [
    "import numpy as np\n",
    "import matplotlib.pyplot as plt"
   ]
  },
  {
   "cell_type": "markdown",
   "id": "22d3f212",
   "metadata": {},
   "source": [
    "As much as I would like to solve this system of equations mathematically, we have been gifted the opportunity to showcase bruteforcing a solution.\n",
    "\n",
    "We try to generate pythagorean triplets such that the sum of the squares of two numbers is also a square in itself.\n",
    "- We simply generate two numbers, square each and then add together.\n",
    "- Their sum is then checked if it is a perfect square via the square root function, and then modulo dividing it.\n",
    "    - If the modulus is 0, then it would be a square number. This third number is then stored in a third variable. </br>\n",
    "\n",
    "\n",
    "The above protocol is then wrapped in a loop until the specific parameters are met:\n",
    "- the sum of the three numbers are in 1000.\n",
    "We can keep this a compet check every loop.\n",
    "\n",
    "The square root of 1000 is around 31, so it is a good arbitrary ending point for generating numbers as the factors $a,b, \\text{and } c$ won't likely surpass that number."
   ]
  },
  {
   "cell_type": "code",
   "execution_count": 7,
   "id": "76739510",
   "metadata": {},
   "outputs": [
    {
     "ename": "TypeError",
     "evalue": "cannot unpack non-iterable function object",
     "output_type": "error",
     "traceback": [
      "\u001b[0;31m---------------------------------------------------------------------------\u001b[0m",
      "\u001b[0;31mTypeError\u001b[0m                                 Traceback (most recent call last)",
      "Cell \u001b[0;32mIn[7], line 37\u001b[0m\n\u001b[1;32m     34\u001b[0m         a, b, c \u001b[38;5;241m=\u001b[39m c_generator\n\u001b[1;32m     35\u001b[0m     \u001b[38;5;28;01mreturn\u001b[39;00m \u001b[38;5;28mprint\u001b[39m(\u001b[38;5;124mf\u001b[39m\u001b[38;5;124m'\u001b[39m\u001b[38;5;124mThe triplet is a, b, c\u001b[39m\u001b[38;5;124m'\u001b[39m)\n\u001b[0;32m---> 37\u001b[0m answer(final_a,final_b,final_c)\n",
      "Cell \u001b[0;32mIn[7], line 34\u001b[0m, in \u001b[0;36manswer\u001b[0;34m(a, b, c)\u001b[0m\n\u001b[1;32m     32\u001b[0m \u001b[38;5;28;01mdef\u001b[39;00m\u001b[38;5;250m \u001b[39m\u001b[38;5;21manswer\u001b[39m(a, b, c):\n\u001b[1;32m     33\u001b[0m     \u001b[38;5;28;01mwhile\u001b[39;00m (a\u001b[38;5;241m*\u001b[39mb\u001b[38;5;241m*\u001b[39mc \u001b[38;5;241m!=\u001b[39m \u001b[38;5;241m1000\u001b[39m):                      \u001b[38;5;66;03m#   CRITERIA: continue as long as solution is not found.\u001b[39;00m\n\u001b[0;32m---> 34\u001b[0m         a, b, c \u001b[38;5;241m=\u001b[39m c_generator\n\u001b[1;32m     35\u001b[0m     \u001b[38;5;28;01mreturn\u001b[39;00m \u001b[38;5;28mprint\u001b[39m(\u001b[38;5;124mf\u001b[39m\u001b[38;5;124m'\u001b[39m\u001b[38;5;124mThe triplet is a, b, c\u001b[39m\u001b[38;5;124m'\u001b[39m)\n",
      "\u001b[0;31mTypeError\u001b[0m: cannot unpack non-iterable function object"
     ]
    }
   ],
   "source": [
    "final_a = 0\n",
    "final_b = 0\n",
    "final_c = 0\n",
    "given_sum = 1000\n",
    "\n",
    "class Triple():\n",
    "    def __init__(self):\n",
    "        self.a = 3\n",
    "        self.b = 4\n",
    "        self.c = 5\n",
    "    \n",
    "    def unique_check(self):\n",
    "        if (self.a+self.b+self.c != given_sum): return False\n",
    "        else: return True\n",
    "    \n",
    "    \n",
    "\n",
    "\n",
    "def hypotenuse(a,b):\n",
    "    return np.sqrt(a**2+b**2)\n",
    "\n",
    "def c_generator():\n",
    "    while (unique_check == False):          #   CRITERIA: continue as long as check function is satisfied.\n",
    "        for i in range(given_sum):\n",
    "            for j in range(given_sum):\n",
    "                potential_c = hypotenuse(i,j)\n",
    "                if (potential_c % 1 == 0): \n",
    "                    return i,j\n",
    "                else: pass\n",
    "    return print(\"None have been found.\")\n",
    "\n",
    "def answer(a, b, c):\n",
    "    while (a*b*c != 1000):                      #   CRITERIA: continue as long as solution is not found.\n",
    "        a, b, c = c_generator\n",
    "    return print(f'The triplet is a, b, c')\n",
    "\n",
    "answer(final_a,final_b,final_c)"
   ]
  },
  {
   "cell_type": "code",
   "execution_count": null,
   "id": "b56eb032",
   "metadata": {},
   "outputs": [],
   "source": []
  }
 ],
 "metadata": {
  "kernelspec": {
   "display_name": "base",
   "language": "python",
   "name": "python3"
  },
  "language_info": {
   "codemirror_mode": {
    "name": "ipython",
    "version": 3
   },
   "file_extension": ".py",
   "mimetype": "text/x-python",
   "name": "python",
   "nbconvert_exporter": "python",
   "pygments_lexer": "ipython3",
   "version": "3.13.5"
  }
 },
 "nbformat": 4,
 "nbformat_minor": 5
}
