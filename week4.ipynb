{
 "cells": [
  {
   "cell_type": "markdown",
   "id": "284f9514",
   "metadata": {},
   "source": [
    "#   10 September 2025"
   ]
  },
  {
   "cell_type": "code",
   "execution_count": 3,
   "id": "a81ec2e2",
   "metadata": {},
   "outputs": [],
   "source": [
    "import numpy as np\n",
    "import matplotlib.pyplot as plt"
   ]
  },
  {
   "cell_type": "markdown",
   "id": "5332a2ce",
   "metadata": {},
   "source": [
    "We recall Ohm's Law as well as Kirchhoff's loop and junction rules:\n",
    "\n",
    "$$V=\\sum_{i}{I_iR_i}$$\n",
    "\n",
    "where $i$ are all of the circuit elements in one loop. <br>\n",
    "A loop is defined as beginning with a voltage source and considering all elements connected to it in series, which may end back to the voltage source or to ground, $V=0$. We also define an arbitrary positive direction (usually CCW) to which the signs of the terms per element will be derived from. An individual loop is described by one Ohm's Law equation counting all of its constituents, where we propose that a specific magnitude of current is passing through an element. If a junction is met, we assume that any incoming current to that junction must be equal to the outgoing current in magnitude; the equation derived from this is often expressed in sums of the incoming/outgoing currents."
   ]
  },
  {
   "cell_type": "markdown",
   "id": "1790ebb8",
   "metadata": {},
   "source": [
    "![Test Circuit 1.](./sample_kirch.png)"
   ]
  },
  {
   "cell_type": "markdown",
   "id": "cf26c9e9",
   "metadata": {},
   "source": [
    "In the above test circuit, we then see that there are three loops to consider:\n",
    "\n",
    "$$-V_1 = -I_1R_1 -I_2R_2$$\n",
    "$$-V_2 = -I_2R_2 -I_4R_4$$\n",
    "$$+V_2 = -I_1R_1 -I_3R_3$$\n",
    "\n",
    "Note that we are trying to determine/calculate the current $I_i$ that goes through each component. As there are 4 components (unknowns), we then also need 4 equations. Thus we can call upon the junction rule in specific junctions, such as before $R1$"
   ]
  },
  {
   "cell_type": "markdown",
   "id": "a2656e5a",
   "metadata": {},
   "source": [
    "##   A resistor network.\n",
    "\n",
    "We consider the diagram below where $N$ is a variable **even** amount of junctions on its top and bottom edge. Based from the diagram as well, $N$ also counts the number of three-resistor loops in the network. In this, we can consider 4 unique resistance values: $R_1$, which are all of the resistors in the top edge; $R_2$, which are all of the bottom edge; $R_3$, which are all the odd-to-even (such as the $V_1 \\to V_2$ resistor); and $R_4$, which are the even-to-odd (such as the $V_2 \\to V_3$ resistor)."
   ]
  },
  {
   "cell_type": "markdown",
   "id": "69cfce7d",
   "metadata": {},
   "source": [
    "![Resistor Network.](./resistor_network.png)"
   ]
  },
  {
   "cell_type": "markdown",
   "id": "c0bbd24a",
   "metadata": {},
   "source": [
    "Arbitrarily, let the diagram above has $V_+=5 \\text{ volts}$.\n",
    "\n",
    "Recall that the effective resistance can be computed whether the network is in series or parallel.\n",
    "\n",
    "$$R_{\\text{eff, ser}} = \\sum_i R_i$$\n",
    "$$R_{\\text{eff, par}} = \\frac{1}{\\sum_i {\\frac{1}{R_i}}}$$\n",
    "\n",
    "where $i$ is an element of the circuit, and from Ohm's Law,\n",
    "\n",
    "$$ R_{\\text{eff}} = \\frac{V}{I_\\text{eff}}$$"
   ]
  },
  {
   "cell_type": "markdown",
   "id": "83bda5dc",
   "metadata": {},
   "source": [
    "From our lab instructor's tip, we take the third equation, where the effective current $I_{\\text{eff}}$ going through the circuit is solvable. \n",
    "\n",
    "Note that for an even $N$, we have the following properties:\n",
    "- number of resistors per type $N_i$; $i \\in {1, 2, 3, 4}$:\n",
    "    - $N_1 = N_2 = N_3 = \\frac{1}{2}N$\n",
    "    - $N_4 = \\frac{1}{2}N+1$\n",
    "- number of unknown currents, which is based on the total number of resistors.\n",
    "    - $N_{\\text{total}} = 2N+1$\n",
    "    - This is also the amount of needed equations, and thus the amount of rows and columns of the matrix $\\vec{A}$ and the size of vector $\\vec{I}$.\n",
    "- size of matrix $\\vec{A}$ is $N_{\\text{total}} \\text{ by } N_{\\text{total}}$\n",
    "\n",
    "Note that loops can be constructed from the voltage source $V_0 = V_{+}$ to the ground line $V_{N+1} = 0$. We can take the following paths:\n",
    "1. Going through the top edge only.\n",
    "2. Going through the bottom edge only.\n",
    "\n",
    "This already gives us $2$ equations."
   ]
  },
  {
   "cell_type": "code",
   "execution_count": 18,
   "id": "ec820c44",
   "metadata": {},
   "outputs": [],
   "source": [
    "def circuit_mat(N=2, R1=1, R2=1, R3=1, R4=1):\n",
    "    dim=2*N+1\n",
    "    A = np.zeros((dim, dim))\n",
    "    I = np.zeros((dim, 1))\n",
    "\n",
    "    #   Populating each row with Kirchhoff's rules.\n",
    "    for col in range(dim):\n",
    "        for row in range(dim):\n",
    "            pass\n",
    "    return A, I"
   ]
  },
  {
   "cell_type": "code",
   "execution_count": 16,
   "id": "1a5e29a0",
   "metadata": {},
   "outputs": [
    {
     "name": "stdout",
     "output_type": "stream",
     "text": [
      "[[0. 0. 0. 0. 0.]\n",
      " [0. 0. 0. 0. 0.]\n",
      " [0. 0. 0. 0. 0.]\n",
      " [0. 0. 0. 0. 0.]\n",
      " [0. 0. 0. 0. 0.]] \n",
      " [[0.]\n",
      " [0.]\n",
      " [0.]\n",
      " [0.]\n",
      " [0.]]\n"
     ]
    }
   ],
   "source": [
    "V_in = 5\n",
    "res = circuit_mat()\n",
    "print(f'{res[0]} \\n {res[1]}')"
   ]
  }
 ],
 "metadata": {
  "kernelspec": {
   "display_name": "pisika",
   "language": "python",
   "name": "python3"
  },
  "language_info": {
   "codemirror_mode": {
    "name": "ipython",
    "version": 3
   },
   "file_extension": ".py",
   "mimetype": "text/x-python",
   "name": "python",
   "nbconvert_exporter": "python",
   "pygments_lexer": "ipython3",
   "version": "3.13.5"
  }
 },
 "nbformat": 4,
 "nbformat_minor": 5
}
