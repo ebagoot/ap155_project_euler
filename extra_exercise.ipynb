{
 "cells": [
  {
   "cell_type": "markdown",
   "id": "ff9c942a",
   "metadata": {},
   "source": [
    "#   List Handling Exercise\n",
    "\n",
    "TODO\n",
    "- [X] Import the <code>random</code> library. We will be using the <code>random.randint</code> function to pick random integers.\n",
    "- [X] <b>A.1</b> Create a function <code>random_integer_matrix(nrows, ncols)</code> that generates a matrix in the form of \"list-of-lists\" whose elements are random integers from 1 to 9. Each \"sub-list\" inside the main list is a row in the matrix.\n",
    "- [X] <b>A.2</b> Create a function <code>scalar_product(list1, list2)</code> where you multiply each element at the same index in the two lists and sum/accumulate the results.\n",
    "- [X] <b>A.3</b> Create a function transpose_matrix(orig_matrix) which returns the transpose of any matrix also in \"list-of-lists\" form. Do not assume the size of the matrix; figure it out within the function.\n",
    "    - Double-check that your implementations above work. Create a 3x4 random integer matrix, print it out and its transpose. The values and shape between the two should be consistent.\n",
    "- [~]  <b>A.4</b> Create a function <code>matrix_multiply(left_matrix, right_matrix)</code> which performs the matrix multiplication. Do not assume the matrices follow a specific shape. Here's some tips and strategies:\n",
    "    - Determine how many rows and columns the left and right matrices have. Which numbers should match in order for us to have valid matrix multiplication?\n",
    "    - Iterating the elements of \"list-of-lists\" gives us the rows, but we need to iterate the columns for the right matrix. Use the <code>transpose_matrix</code> function, then iteratively apply <code>scalar_product</code>."
   ]
  },
  {
   "cell_type": "code",
   "execution_count": 2,
   "id": "aeb9b9b4",
   "metadata": {},
   "outputs": [],
   "source": [
    "from random import randint"
   ]
  },
  {
   "cell_type": "markdown",
   "id": "48a87140",
   "metadata": {},
   "source": [
    "##  Task A.1\n",
    "\n",
    "The function below simply initiates a blank matrix based on the input parameters, and populates it row-by-row."
   ]
  },
  {
   "cell_type": "code",
   "execution_count": 37,
   "id": "9e5b6f6b",
   "metadata": {},
   "outputs": [],
   "source": [
    "def random_integer_matrix(nrows, ncols):\n",
    "    matrix = []\n",
    "    for i in range(nrows):\n",
    "        row = []\n",
    "        for j in range(ncols):\n",
    "            row.append(randint(1,9))\n",
    "        matrix.append(row)\n",
    "    return matrix"
   ]
  },
  {
   "cell_type": "markdown",
   "id": "9c04be99",
   "metadata": {},
   "source": [
    "##  Task A.2\n",
    "\n",
    "The <code>scalar_product()</code> function should be able to check whether the two matrices are of the same dimension; only then will it proceed with the element-by-element multiplication. We also importantly recall that the result should be a single number."
   ]
  },
  {
   "cell_type": "code",
   "execution_count": 410,
   "id": "7eec9263",
   "metadata": {},
   "outputs": [
    {
     "data": {
      "text/plain": [
       "' #   Validation block.\\na = random_integer_matrix(1,3)\\nb = random_integer_matrix(1,3)\\nprint(a)\\nprint(b)\\nprint(scalar_product(a,b))\\n'"
      ]
     },
     "execution_count": 410,
     "metadata": {},
     "output_type": "execute_result"
    }
   ],
   "source": [
    "def scalar_product(list1, list2):\n",
    "    result = 0\n",
    "    for i in range(len(list1)):                     #   goes through every column\n",
    "        for j in range(len(list1[0])):              #   goes through every row\n",
    "            result += list1[i][j]*list2[i][j]\n",
    "    return result\n",
    "def scalar_product_s(list1, list2):\n",
    "    result = 0\n",
    "    for i in range(len(list1)):                     #   goes through every element of row\n",
    "        for j in range(len(list2)):                 #   goes through every element of column\n",
    "            result += list1[i]*list2[j]\n",
    "    return result\n",
    "\n",
    "\n",
    "''' #   Validation block.\n",
    "a = random_integer_matrix(1,3)\n",
    "b = random_integer_matrix(1,3)\n",
    "print(a)\n",
    "print(b)\n",
    "print(scalar_product(a,b))\n",
    "'''"
   ]
  },
  {
   "cell_type": "markdown",
   "id": "976da97f",
   "metadata": {},
   "source": [
    "##  Task A.3\n",
    "\n",
    "The <code>transpose()</code> function's objecive is to read and access the columns of a matrix, and then write it as a row. \n",
    "Also note that while this operation is only valid for square matrices: that is, when <code>ncols == nrows</code>, a transposed non-square matrix will have its dimensions swapped after this function.\n",
    "<br><br>"
   ]
  },
  {
   "cell_type": "code",
   "execution_count": 232,
   "id": "54562d76",
   "metadata": {},
   "outputs": [
    {
     "data": {
      "text/plain": [
       "'#    Validation block.\\nb = random_integer_matrix (3,3)\\nprint(b)\\nprint(transpose_matrix(b))\\n'"
      ]
     },
     "execution_count": 232,
     "metadata": {},
     "output_type": "execute_result"
    }
   ],
   "source": [
    "def transpose_matrix(orig_matrix):\n",
    "    result_matrix = []\n",
    "    for i in range(len(orig_matrix[0])):\n",
    "        result_row = []\n",
    "        for j in range(len(orig_matrix)):\n",
    "            result_row.append(orig_matrix[j][i])\n",
    "        result_matrix.append(result_row)\n",
    "    return result_matrix\n",
    "\n",
    "'''#    Validation block.\n",
    "b = random_integer_matrix (3,3)\n",
    "print(b)\n",
    "print(transpose_matrix(b))\n",
    "'''"
   ]
  },
  {
   "cell_type": "markdown",
   "id": "9db0856a",
   "metadata": {},
   "source": [
    "##  Task A.4\n",
    "\n",
    "Matrix multiplication is only allowed if $$AB = M$$ where $\\forall \\ A:m\\times n$ and $B:n\\times p$, $n$ is the same number. The resulting product matrix now has dimensions $m \\times p$.\n",
    "<br><br>\n",
    "The condition above must be satisfied for the two matrices to be validly multiplied. If it is valid, then we can recall that the new matrix' elements are the scalar product of the row and column that it belongs to. This is then implemented as a <code>for</code> loop, iterating over every single element and is built by row (as to be consistent with previous functions.)"
   ]
  },
  {
   "cell_type": "code",
   "execution_count": 415,
   "id": "1f92f673",
   "metadata": {},
   "outputs": [
    {
     "name": "stdout",
     "output_type": "stream",
     "text": [
      "[[7, 9, 7, 9], [3, 3, 1, 7], [2, 3, 7, 8]]\n",
      "[[1, 6, 3, 4, 3], [7, 9, 5, 9, 4], [2, 7, 1, 6, 9], [6, 3, 2, 3, 1]]\n",
      "[[1, 7, 2, 6], [6, 9, 7, 3], [3, 5, 1, 2], [4, 9, 6, 3], [3, 4, 9, 1]]\n"
     ]
    },
    {
     "data": {
      "text/plain": [
       "[[512, 800, 352, 704, 544],\n",
       " [224, 350, 154, 308, 238],\n",
       " [320, 500, 220, 440, 340]]"
      ]
     },
     "execution_count": 415,
     "metadata": {},
     "output_type": "execute_result"
    }
   ],
   "source": [
    "def matrix_multiply(left_matrix, right_matrix):\n",
    "    #   Check dimensions for invalidity, returns an error if so. Criteria: #columns of L == #rows of R.\n",
    "    if (len(left_matrix[0]) != len(right_matrix)):\n",
    "        return f\"Please try again. Verify that the first matrix is size a-by-n and the second is n-by-b.\"\n",
    "    else:\n",
    "        right_trans = transpose_matrix(right_matrix)\n",
    "        result_matrix = []\n",
    "        \n",
    "        for j in range(len(left_matrix)):                                               #   the number of rows in R_transpose              \n",
    "            result_row = []                                                             #   creates a row for results\n",
    "            for i in range(len(right_trans)):                                       #   \n",
    "                result_row.append(scalar_product_s(left_matrix[j], right_trans[i]))\n",
    "            result_matrix.append(result_row)\n",
    "        return result_matrix\n",
    "    \n",
    "'''#    Validation block\n",
    "'''\n",
    "l = random_integer_matrix(3,4)          #   Creating a 3x4 matrix\n",
    "r = random_integer_matrix(4,5)          #   Creating a 4x5 matrix\n",
    "print(l)\n",
    "print(r)\n",
    "print(transpose_matrix(r))              #   Displays the 4x5 matrix, transposed.\n",
    "matrix_multiply(l,r)                    #   Results a 3x5 matrix"
   ]
  },
  {
   "cell_type": "markdown",
   "id": "86f7b4a0",
   "metadata": {},
   "source": []
  }
 ],
 "metadata": {
  "kernelspec": {
   "display_name": "pisika",
   "language": "python",
   "name": "python3"
  },
  "language_info": {
   "codemirror_mode": {
    "name": "ipython",
    "version": 3
   },
   "file_extension": ".py",
   "mimetype": "text/x-python",
   "name": "python",
   "nbconvert_exporter": "python",
   "pygments_lexer": "ipython3",
   "version": "3.13.5"
  }
 },
 "nbformat": 4,
 "nbformat_minor": 5
}
