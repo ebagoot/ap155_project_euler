{
 "cells": [
  {
   "cell_type": "markdown",
   "id": "ff9c942a",
   "metadata": {},
   "source": [
    "#   List Handling Exercise\n",
    "\n",
    "TODO\n",
    "- [X] Import the <code>random</code> library. We will be using the <code>random.randint</code> function to pick random integers.\n",
    "- [X] <b>A.1</b> Create a function <code>random_integer_matrix(nrows, ncols)</code> that generates a matrix in the form of \"list-of-lists\" whose elements are random integers from 1 to 9. Each \"sub-list\" inside the main list is a row in the matrix.\n",
    "- [X] <b>A.2</b> Create a function <code>scalar_product(list1, list2)</code> where you multiply each element at the same index in the two lists and sum/accumulate the results.\n",
    "- [X] <b>A.3</b> Create a function transpose_matrix(orig_matrix) which returns the transpose of any matrix also in \"list-of-lists\" form. Do not assume the size of the matrix; figure it out within the function.\n",
    "    - Double-check that your implementations above work. Create a 3x4 random integer matrix, print it out and its transpose. The values and shape between the two should be consistent.\n",
    "- [X]  <b>A.4</b> Create a function <code>matrix_multiply(left_matrix, right_matrix)</code> which performs the matrix multiplication. Do not assume the matrices follow a specific shape. Here's some tips and strategies:\n",
    "    - Determine how many rows and columns the left and right matrices have. Which numbers should match in order for us to have valid matrix multiplication?\n",
    "    - Iterating the elements of \"list-of-lists\" gives us the rows, but we need to iterate the columns for the right matrix. Use the <code>transpose_matrix</code> function, then iteratively apply <code>scalar_product</code>."
   ]
  },
  {
   "cell_type": "code",
   "execution_count": 1,
   "id": "aeb9b9b4",
   "metadata": {},
   "outputs": [],
   "source": [
    "from random import randint"
   ]
  },
  {
   "cell_type": "markdown",
   "id": "48a87140",
   "metadata": {},
   "source": [
    "##  Task A.1\n",
    "\n",
    "The function below simply initiates a blank matrix based on the input parameters, and populates it row-by-row."
   ]
  },
  {
   "cell_type": "code",
   "execution_count": 2,
   "id": "9e5b6f6b",
   "metadata": {},
   "outputs": [],
   "source": [
    "def random_integer_matrix(nrows, ncols):\n",
    "    matrix = []\n",
    "    for i in range(nrows):\n",
    "        row = []\n",
    "        for j in range(ncols):\n",
    "            row.append(randint(1,9))\n",
    "        matrix.append(row)\n",
    "    return matrix"
   ]
  },
  {
   "cell_type": "markdown",
   "id": "9c04be99",
   "metadata": {},
   "source": [
    "##  Task A.2\n",
    "\n",
    "The <code>scalar_product()</code> function should be able to check whether the two matrices are of the same dimension; only then will it proceed with the element-by-element multiplication. We also importantly recall that the result should be a single number.\n",
    "\n",
    "I thought that the scalar product would proceed with an entire matrix. That line of thinking brought about the <code>scalar_product()</code> function which actually works with the validation block below. However, it is useless in this task as it does not make the row-by-column operation individually iterable. This has been fixed in the second <code>scalar_product_s()</code> function, where we only need to cycle through each element of the two lists."
   ]
  },
  {
   "cell_type": "code",
   "execution_count": null,
   "id": "7eec9263",
   "metadata": {},
   "outputs": [
    {
     "data": {
      "text/plain": [
       "' #   Validation block.\\na = random_integer_matrix(1,3)\\nb = random_integer_matrix(1,3)\\nprint(a)\\nprint(b)\\nprint(scalar_product(a,b))\\n'"
      ]
     },
     "execution_count": 3,
     "metadata": {},
     "output_type": "execute_result"
    }
   ],
   "source": [
    "def scalar_product(list1, list2):\n",
    "    result = 0\n",
    "    for i in range(len(list1)):                     #   goes through every column\n",
    "        for j in range(len(list1[0])):              #   goes through every row\n",
    "            result += list1[i][j]*list2[i][j]\n",
    "    return result\n",
    "\n",
    "def scalar_product_s(list1, list2):\n",
    "    result = 0\n",
    "    for i in range(len(list1)):                     #   goes through every element of row\n",
    "        for j in range(len(list2)):                 #   goes through every element of column\n",
    "            result += list1[i]*list2[j]\n",
    "    return result\n",
    "\n",
    "\n",
    "''' #   Validation block.\n",
    "a = random_integer_matrix(1,3)\n",
    "b = random_integer_matrix(1,3)\n",
    "print(a)\n",
    "print(b)\n",
    "print(scalar_product(a,b))\n",
    "'''"
   ]
  },
  {
   "cell_type": "markdown",
   "id": "976da97f",
   "metadata": {},
   "source": [
    "##  Task A.3\n",
    "\n",
    "The <code>transpose()</code> function's objecive is to read and access the columns of a matrix, and then write it as a row. \n",
    "Also note that while this operation is only valid for square matrices: that is, when <code>ncols == nrows</code>, a transposed non-square matrix will have its dimensions swapped after this function.\n",
    "<br><br>"
   ]
  },
  {
   "cell_type": "code",
   "execution_count": 4,
   "id": "54562d76",
   "metadata": {},
   "outputs": [
    {
     "data": {
      "text/plain": [
       "'#    Validation block.\\nb = random_integer_matrix (3,3)\\nprint(b)\\nprint(transpose_matrix(b))\\n'"
      ]
     },
     "execution_count": 4,
     "metadata": {},
     "output_type": "execute_result"
    }
   ],
   "source": [
    "def transpose_matrix(orig_matrix):\n",
    "    result_matrix = []\n",
    "    for i in range(len(orig_matrix[0])):\n",
    "        result_row = []\n",
    "        for j in range(len(orig_matrix)):\n",
    "            result_row.append(orig_matrix[j][i])\n",
    "        result_matrix.append(result_row)\n",
    "    return result_matrix\n",
    "\n",
    "'''#    Validation block.\n",
    "b = random_integer_matrix (3,3)\n",
    "print(b)\n",
    "print(transpose_matrix(b))\n",
    "'''"
   ]
  },
  {
   "cell_type": "markdown",
   "id": "9db0856a",
   "metadata": {},
   "source": [
    "##  Task A.4\n",
    "\n",
    "Matrix multiplication is only allowed if $$AB = M$$ where $\\forall \\ A:m\\times n$ and $B:n\\times p$, $n$ is the same number. The resulting product matrix now has dimensions $m \\times p$.\n",
    "<br><br>\n",
    "The condition above must be satisfied for the two matrices to be validly multiplied. If it is valid, then we can recall that the new matrix' elements are the scalar product of the row and column that it belongs to. This is then implemented as a <code>for</code> loop, iterating over every single element and is built by row (as to be consistent with previous functions.)"
   ]
  },
  {
   "cell_type": "code",
   "execution_count": 5,
   "id": "1f92f673",
   "metadata": {},
   "outputs": [
    {
     "name": "stdout",
     "output_type": "stream",
     "text": [
      "The left matrix  [[4, 4, 5, 1], [9, 6, 5, 3], [5, 3, 3, 4]]\n",
      "The right matrix [[6, 9, 4, 5, 5], [6, 7, 2, 1, 7], [4, 6, 4, 8, 6], [7, 8, 7, 1, 6]]\n",
      "The right transposed matrix [[6, 6, 4, 7], [9, 7, 6, 8], [4, 2, 4, 7], [5, 1, 8, 1], [5, 7, 6, 6]]\n",
      "The product matrix [[322, 420, 238, 210, 336], [529, 690, 391, 345, 552], [345, 450, 255, 225, 360]]\n"
     ]
    }
   ],
   "source": [
    "def matrix_multiply(left_matrix, right_matrix):\n",
    "    #   Check dimensions for invalidity, returns an error if so. Criteria: #columns of L == #rows of R.\n",
    "    if (len(left_matrix[0]) != len(right_matrix)):\n",
    "        return f'Please try again: {len(left_matrix[0])} != {len(right_matrix)}. Verify that the first matrix is size a-by-n and the second is n-by-b.'\n",
    "    else:\n",
    "        right_trans = transpose_matrix(right_matrix)\n",
    "        result_matrix = []\n",
    "        \n",
    "        for i in range(len(left_matrix)):                                               #   the number of rows in R_transpose              \n",
    "            result_row = []                                                             #   creates a row for results\n",
    "            for j in range(len(right_trans)):                                           #   the number of rows in L   \n",
    "                result_row.append(scalar_product_s(left_matrix[i], right_trans[j]))     #   keep the respective rows, not forgetting the corresponding index.\n",
    "            result_matrix.append(result_row)\n",
    "        return result_matrix\n",
    "    \n",
    "'''#    Validation block\n",
    "'''\n",
    "l = random_integer_matrix(3,4)          #   Creating a 3x4 matrix\n",
    "r = random_integer_matrix(4,5)          #   Creating a 4x5 matrix\n",
    "m = matrix_multiply(l,r)                    #   Results a 3x5 product matrix\n",
    "print(f'The left matrix  {l}')\n",
    "print(f'The right matrix {r}')\n",
    "print(f'The right transposed matrix {transpose_matrix(r)}')              #   Displays the 4x5 matrix, transposed.\n",
    "print(f'The product matrix {m}')"
   ]
  },
  {
   "cell_type": "markdown",
   "id": "8edc1645",
   "metadata": {},
   "source": [
    "I was genuinely confused for a large part of the laboratory session because of this function. As I fixed <code>scalar_product_s()</code>, it became easier to understand but was still confusing to index. \n",
    "\n",
    "My main confusion lied with having the right matrix $R$ be transposed before the multiplication happens, as I was already thinking that I can first create a <code>for</code>loop that runs exactly that. I then realized that transposing $R$ makes it straightforward, only taking caution on the conditions of the loop.\n",
    "\n",
    "The most important realization for this session is to always take note of the loop criterias, and be consistent with labelling the indexes (this also really serves as a constant reminder to me haha). A fix that I could do in this code is be more clear and explicit to whether a loop index belongs to a row or column, etc. "
   ]
  }
 ],
 "metadata": {
  "kernelspec": {
   "display_name": "pisika",
   "language": "python",
   "name": "python3"
  },
  "language_info": {
   "codemirror_mode": {
    "name": "ipython",
    "version": 3
   },
   "file_extension": ".py",
   "mimetype": "text/x-python",
   "name": "python",
   "nbconvert_exporter": "python",
   "pygments_lexer": "ipython3",
   "version": "3.13.5"
  }
 },
 "nbformat": 4,
 "nbformat_minor": 5
}
