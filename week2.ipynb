{
 "cells": [
  {
   "cell_type": "markdown",
   "id": "84e6da44",
   "metadata": {},
   "source": [
    "#   27 August 2025"
   ]
  },
  {
   "cell_type": "code",
   "execution_count": 1,
   "id": "5efda6de",
   "metadata": {},
   "outputs": [],
   "source": [
    "import numpy as np\n",
    "import matplotlib.pyplot as plt\n",
    "\n",
    "from decimal import Decimal\n",
    "from fractions import Fraction"
   ]
  },
  {
   "cell_type": "code",
   "execution_count": 2,
   "id": "f92c7f5b",
   "metadata": {},
   "outputs": [
    {
     "name": "stdout",
     "output_type": "stream",
     "text": [
      "0.30000000000000004\n",
      "0.30000000000000001665\n",
      "0.2998\n",
      "0.3000000000000000166533453694\n",
      "0.3\n"
     ]
    }
   ],
   "source": [
    "#   Floating point in Python is wack.\n",
    "a = 0.1\n",
    "b = 0.2\n",
    "print(a+b)      #   prints 0.3+4E-16.\n",
    "print(np.float128(a)+np.float128(b))\n",
    "print(np.float16(a)+np.float16(b))\n",
    "print(Decimal(a)+Decimal(b))\n",
    "print(float(Fraction(1,10)+Fraction(1,5)))          #   explicit Fraction type"
   ]
  },
  {
   "cell_type": "markdown",
   "id": "cb8cd328",
   "metadata": {},
   "source": [
    "##  Problem 2.6\n",
    "\n",
    "Take the standard quadratic equation $ax^2 +bx+c=0$ where\n",
    "\n",
    "$$x_{\\pm} = \\frac{-b \\pm \\sqrt{b^2 - 4ac}}{2a}$$\n",
    "\n",
    "and $$x_+x_- = \\frac{c}{a}$$\n",
    "\n",
    "We note that for extremely large values of $b$, the value of the square root term will have a negligible difference: $\\sqrt(-b^2-4ac) = b$\n",
    "\n",
    "TODO\n",
    "- [X] evaluate and print out x_-\n",
    "- [X] evaluate and print out x_+\n",
    "    - [X] use a = 1, c = 1, b = 1E9\n"
   ]
  },
  {
   "cell_type": "code",
   "execution_count": 3,
   "id": "26701b72",
   "metadata": {},
   "outputs": [
    {
     "name": "stdout",
     "output_type": "stream",
     "text": [
      "xp_bad: 0.0, xm: -1000000000.0\n",
      "0.0 -1e-09\n",
      "1.0 \n",
      "\n"
     ]
    }
   ],
   "source": [
    "a = 1\n",
    "c = 1\n",
    "b = 1e9\n",
    "\n",
    "xp_bad = (-b+np.sqrt(b**2-4*a*c)) /(2*a)\n",
    "xp_ekek = (-b+np.sqrt(b**2)) /(2*a)\n",
    "xm = (-b-np.sqrt(b**2-4*a*c)) /(2*a)\n",
    "xp_good = c/(a*xm)\n",
    "\n",
    "print(f'xp_bad: {xp_bad}, xm: {xm}')\n",
    "print(xp_bad,xp_good)\n",
    "print(f'{xp_good*xm} \\n')\n",
    "\n",
    "def xm_func(aVar=a, bVar=b, cVar=c):\n",
    "    return (-bVar-np.sqrt(bVar**2-4*aVar*cVar))/(2*aVar)\n",
    "def xp_func(xmVar, aVar=a, cVar=c):\n",
    "    return cVar/(aVar*xmVar)"
   ]
  },
  {
   "cell_type": "code",
   "execution_count": 4,
   "id": "25796a40",
   "metadata": {},
   "outputs": [
    {
     "name": "stdout",
     "output_type": "stream",
     "text": [
      "b = 10e4, xm=-99999.99999, xp=-1.0000000001000001e-05, Log error: 4.9999999999131415\n",
      "b = 10e5, xm=-999999.999999, xp=-1.000000000001e-06, Log error: 5.999999999999131\n",
      "b = 10e6, xm=-9999999.9999999, xp=-1.00000000000001e-07, Log error: 6.999999999999991\n",
      "b = 10e7, xm=-100000000.0, xp=-1e-08, Log error: 8.0\n",
      "b = 10e8, xm=-1000000000.0, xp=-1e-09, Log error: 9.0\n",
      "b = 10e9, xm=-10000000000.0, xp=-1e-10, Log error: 10.0\n"
     ]
    }
   ],
   "source": [
    "a = np.float128(1)\n",
    "c = np.float128(1)\n",
    "\n",
    "que_start = 4\n",
    "que = np.logspace(que_start, 9, num=6)\n",
    "b_mant = 10\n",
    "b_arr = np.zeros(len(que))\n",
    "xm_arr = np.zeros(len(que))\n",
    "xp_arr = np.zeros(len(que))\n",
    "logerr = np.zeros(len(que))\n",
    "for i in range(len(que)):\n",
    "    b_arr[i] = np.float128(b_mant*que[i])\n",
    "    #print(b_new[i])\n",
    "    xm_arr[i] = xm_func(bVar=b_arr[i])\n",
    "    xp_arr[i] = xp_func(xmVar=xm_arr[i])\n",
    "    logerr[i] = np.log10(np.abs(xp_arr[i]-xm_arr[i]))\n",
    "    print(f'b = 10e{i+que_start}, xm={xm_arr[i]}, xp={xp_arr[i]}, Log error: {logerr[i]}')\n"
   ]
  },
  {
   "cell_type": "markdown",
   "id": "9d4fddc0",
   "metadata": {},
   "source": [
    "# <i>np.logspace()</i> syntax\n",
    "\n",
    "np.logspace(start, endInclusive, num=howMany)\n",
    "\n",
    "returns\n"
   ]
  },
  {
   "cell_type": "markdown",
   "id": "806f2b8d",
   "metadata": {},
   "source": [
    "##  Problem 2.8\n",
    "\n",
    "We are given the function $$f(x)=\\frac{1-cos(x)}{x^2}$$."
   ]
  },
  {
   "cell_type": "markdown",
   "id": "ec53bbdd",
   "metadata": {},
   "source": [
    "TODO\n",
    "- [X] form x matrix where x = 0.1*i ; i from 1 to 100\n",
    "- [X] verify mathematically ; limit at x = 0 and l'hopitals\n",
    "- [X] check x = 1.2E-8\n",
    "- [X] re-verify mathematically ; use identities\n",
    "- [X] check x = 1.2E-8\n",
    "- [X] compare all answers"
   ]
  },
  {
   "cell_type": "code",
   "execution_count": 5,
   "id": "969f6285",
   "metadata": {},
   "outputs": [
    {
     "name": "stdout",
     "output_type": "stream",
     "text": [
      "1.1102230246251565e-16\n",
      "1.44e-16\n",
      "with g = 1.2e-08,\n",
      " f_1(g) = 0.7709882115452477\n"
     ]
    },
    {
     "data": {
      "image/png": "[encoded data removed]",
      "text/plain": [
       "<Figure size 640x480 with 1 Axes>"
      ]
     },
     "metadata": {},
     "output_type": "display_data"
    }
   ],
   "source": [
    "def func(xVar=1):\n",
    "    return (1-np.cos(xVar))/(xVar**2)\n",
    "\n",
    "g = 1.2E-8\n",
    "start = 1\n",
    "end = 100\n",
    "x = np.linspace(0.1, 10, num=100)\n",
    "y = np.zeros(len(x))\n",
    "for i in range(len(x)):\n",
    "    y[i]=func(x[i])\n",
    "\n",
    "print(1-np.cos(g))\n",
    "print(g**2)\n",
    "\n",
    "print(f'with g = {g},\\n f_1(g) = {func(g)}')\n",
    "fig, ax = plt.subplots()\n",
    "ax.scatter(x,y, color='green')\n",
    "plt.show()"
   ]
  },
  {
   "cell_type": "markdown",
   "id": "15cb0156",
   "metadata": {},
   "source": [
    "###  **Via L'Hopital's**\n",
    "Note that via L'Hopital's Rule, $$\\lim_{x\\to0}f(x) = \\lim_{x\\to0}\\frac{1-\\cos(x)}{x^2} = \\lim_{x\\to0}\\frac{+\\sin(x)}{2x}$$ \n",
    "<br> where, as $\\frac{\\sin(x)}{x} goes to 1 as $x\\to0$; <br>\n",
    "we then have $$\\lim_{x\\to0} f(x) = \\frac{1}{2}$$"
   ]
  },
  {
   "cell_type": "markdown",
   "id": "57ed22a6",
   "metadata": {},
   "source": [
    "### **Via trigonometric identity**\n",
    "\n",
    "From the half-angle identity $$\\sin\\frac{\\theta}{2} = \\pm \\sqrt{\\frac{1-cos(\\theta)}{2}}$$\n",
    "$$\\sin^2\\left(\\frac{\\theta}{2}\\right) = +\\frac{1-cos(\\theta)}{2} $$\n",
    "therefore\n",
    "$$2\\sin^2\\left(\\frac{\\theta}{2}\\right) = 1-cos (\\theta) $$\n",
    "<br>\n",
    "and so, we have\n",
    "\n",
    "$$\\lim_{x\\to0}f(x)= \\frac{2\\sin^2\\left(\\frac{1}{2}x\\right)}{x^2}$$\n",
    "\n",
    "which we can rearrange into\n",
    "$$\\lim_{x\\to0}f(x)\n",
    "=\\lim_{x\\to0} 2\\left(\\frac{\\sin\\left(\\frac{1}{2}x\\right)}{x}\\right)^2 \n",
    "=\\lim_{x\\to0} 2\\left(\\frac{\\sin\\left(\\frac{1}{2}x\\right)}{2\\cdot\\frac{1}{2}x}\\right)^2 \n",
    "=\\lim_{x\\to0} \\frac{2}{4}\\left(\\frac{\\sin\\left(\\frac{1}{2}x\\right)}{\\frac{1}{2}x}\\right)^2$$\n",
    "which we then have\n",
    "$$\\lim_{x\\to0}f(x)\n",
    "= \\frac{1}{2}\\cdot(1)^2 = \\frac{1}{2}$$\n",
    "confirming our previous result.\n"
   ]
  },
  {
   "cell_type": "markdown",
   "id": "f68739ba",
   "metadata": {},
   "source": [
    "In the following codeblock below, we simply redefine the function <code>func()</code> to be \n",
    "$$\\lim_{x\\to0}f(x)= \\frac{2\\sin^2\\left(\\frac{1}{2}x\\right)}{x^2}$$"
   ]
  },
  {
   "cell_type": "code",
   "execution_count": 6,
   "id": "41e12d58",
   "metadata": {},
   "outputs": [
    {
     "name": "stdout",
     "output_type": "stream",
     "text": [
      "3.6e-17\n",
      "1.44e-16\n",
      "with g = 1.2e-08,\n",
      " f(g) = 0.5\n"
     ]
    },
    {
     "data": {
      "image/png": "[encoded data removed]",
      "text/plain": [
       "<Figure size 640x480 with 1 Axes>"
      ]
     },
     "metadata": {},
     "output_type": "display_data"
    }
   ],
   "source": [
    "def func(xVar=1):\n",
    "    return 2*(np.sin(0.5*xVar)**2)/(xVar**2)\n",
    "\n",
    "g = 1.2E-8\n",
    "start = 1\n",
    "end = 100\n",
    "x = np.linspace(0.1, 10, num=100)\n",
    "y = np.zeros(len(x))\n",
    "for i in range(len(x)):\n",
    "    y[i]=func(x[i])\n",
    "\n",
    "print(np.sin(0.5*g)**2)\n",
    "print(g**2)\n",
    "print(f'with g = {g},\\n f(g) = {func(g)}')\n",
    "fig, ax = plt.subplots()\n",
    "ax.scatter(x,y, color='orange')\n",
    "plt.show()"
   ]
  }
 ],
 "metadata": {
  "kernelspec": {
   "display_name": "pisika",
   "language": "python",
   "name": "python3"
  },
  "language_info": {
   "codemirror_mode": {
    "name": "ipython",
    "version": 3
   },
   "file_extension": ".py",
   "mimetype": "text/x-python",
   "name": "python",
   "nbconvert_exporter": "python",
   "pygments_lexer": "ipython3",
   "version": "3.13.5"
  }
 },
 "nbformat": 4,
 "nbformat_minor": 5
}
