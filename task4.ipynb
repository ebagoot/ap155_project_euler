{
 "cells": [
  {
   "cell_type": "code",
   "execution_count": 8,
   "id": "e6ad615c",
   "metadata": {},
   "outputs": [
    {
     "name": "stderr",
     "output_type": "stream",
     "text": [
      "Fontconfig warning: ignoring UTF-8: not a valid region tag\n",
      "Matplotlib is building the font cache; this may take a moment.\n"
     ]
    }
   ],
   "source": [
    "import numpy as np\n",
    "import matplotlib.pyplot as plt"
   ]
  },
  {
   "cell_type": "markdown",
   "id": "8b29099b",
   "metadata": {},
   "source": [
    "# Problem 4 \n",
    "### [#14 in popular](https://projecteuler.net/problem=14)\n",
    "\n",
    "The Collatz sequence is defined as follows, where $\\forall \\ c_n$: \n",
    "$$c_{n+1} = \\frac{1}{2}c_n \\quad \\forall \\ c_n \\text{ even}$$\n",
    "and \n",
    "$$c_{n+1} = 3c_{n} + 1 \\quad \\forall \\ c_n \\text{ odd}$$\n",
    "\n",
    "For any starting natural number, it is thought that its sequence finishes at 1.\n",
    "<br>Which starting number, under one million, produces the longest chain?\n",
    "<br><br>\n",
    "<b>NOTE:</b> Once the chain starts the terms are allowed to go above one million."
   ]
  },
  {
   "cell_type": "code",
   "execution_count": 13,
   "id": "e0dddec1",
   "metadata": {},
   "outputs": [
    {
     "ename": "TypeError",
     "evalue": "'float' object cannot be interpreted as an integer",
     "output_type": "error",
     "traceback": [
      "\u001b[31m---------------------------------------------------------------------------\u001b[39m",
      "\u001b[31mTypeError\u001b[39m                                 Traceback (most recent call last)",
      "\u001b[36mCell\u001b[39m\u001b[36m \u001b[39m\u001b[32mIn[13]\u001b[39m\u001b[32m, line 33\u001b[39m\n\u001b[32m     30\u001b[39m             \u001b[38;5;28;01mcontinue\u001b[39;00m\n\u001b[32m     31\u001b[39m     \u001b[38;5;28;01mreturn\u001b[39;00m number\n\u001b[32m---> \u001b[39m\u001b[32m33\u001b[39m \u001b[43mlongest_sequence\u001b[49m\u001b[43m(\u001b[49m\u001b[43m)\u001b[49m\n\u001b[32m     35\u001b[39m \u001b[38;5;66;03m#   Validation block below: change the N value as you wish.\u001b[39;00m\n\u001b[32m     36\u001b[39m \u001b[33;03m'''\u001b[39;00m\n\u001b[32m     37\u001b[39m \u001b[33;03mN = 3  \u001b[39;00m\n\u001b[32m     38\u001b[39m \u001b[33;03mprint(collatz_unity(N))\u001b[39;00m\n\u001b[32m     39\u001b[39m \u001b[33;03mprint(\"Number:\",x[N])\u001b[39;00m\n\u001b[32m     40\u001b[39m \u001b[33;03m'''\u001b[39;00m\n",
      "\u001b[36mCell\u001b[39m\u001b[36m \u001b[39m\u001b[32mIn[13]\u001b[39m\u001b[32m, line 24\u001b[39m, in \u001b[36mlongest_sequence\u001b[39m\u001b[34m()\u001b[39m\n\u001b[32m     22\u001b[39m \u001b[38;5;28;01mdef\u001b[39;00m\u001b[38;5;250m \u001b[39m\u001b[34mlongest_sequence\u001b[39m():\n\u001b[32m     23\u001b[39m     answer = \u001b[32m1\u001b[39m\n\u001b[32m---> \u001b[39m\u001b[32m24\u001b[39m     \u001b[38;5;28;01mfor\u001b[39;00m i \u001b[38;5;129;01min\u001b[39;00m \u001b[38;5;28mint\u001b[39m(\u001b[38;5;28;43mrange\u001b[39;49m\u001b[43m(\u001b[49m\u001b[43mgraph_limit\u001b[49m\u001b[43m)\u001b[49m):\n\u001b[32m     25\u001b[39m         number = i\n\u001b[32m     26\u001b[39m         \u001b[38;5;28mnext\u001b[39m = collatz_unity(i)\n",
      "\u001b[31mTypeError\u001b[39m: 'float' object cannot be interpreted as an integer"
     ]
    }
   ],
   "source": [
    "#   Initialization of x:integers from 1 to 10,000 <arbitrary limit> and y:their respective T(N) arrays\n",
    "graph_limit = 1e4                   #   1 million is 1x10^9 or 1e9.\n",
    "last_number = 1\n",
    "x = np.arange(1, graph_limit+1, step=1, dtype=int)\n",
    "y = np.zeros(int(graph_limit), dtype=int)\n",
    "\n",
    "def collatz_next(current):          #   Propagates the sequence to the next number. In: current number -> Out: next number\n",
    "    if (current % 2 == 0):\n",
    "        current /= 2\n",
    "    else:\n",
    "        current = 3*current + 1\n",
    "    return current\n",
    "\n",
    "def collatz_unity(c_1):             #   Goes through the whole sequence until reaching the last number. In: start number of sequence -> Out: index of last number in sequence.    \n",
    "    index_count = 0\n",
    "    c_2 = int(c_1)\n",
    "    while (c_2 != last_number):\n",
    "        c_2 = collatz_next(c_2)\n",
    "        index_count += 1\n",
    "    return index_count\n",
    "\n",
    "def longest_sequence():\n",
    "    answer = 1\n",
    "    for i in int(range(graph_limit)):\n",
    "        number = i\n",
    "        next = collatz_unity(i)\n",
    "        if next > answer:           #   if the new starting number has a higher end index, then replace the answer with it.\n",
    "            answer = next\n",
    "        else:\n",
    "            continue\n",
    "    return number\n",
    "\n",
    "longest_sequence()\n",
    "\n",
    "#   Validation block below: change the N value as you wish.\n",
    "'''\n",
    "N = 3  \n",
    "print(collatz_unity(N))\n",
    "print(\"Number:\",x[N])\n",
    "'''"
   ]
  },
  {
   "cell_type": "code",
   "execution_count": 7,
   "id": "948c8a57",
   "metadata": {},
   "outputs": [
    {
     "ename": "NameError",
     "evalue": "name 'plt' is not defined",
     "output_type": "error",
     "traceback": [
      "\u001b[31m---------------------------------------------------------------------------\u001b[39m",
      "\u001b[31mNameError\u001b[39m                                 Traceback (most recent call last)",
      "\u001b[36mCell\u001b[39m\u001b[36m \u001b[39m\u001b[32mIn[7]\u001b[39m\u001b[32m, line 1\u001b[39m\n\u001b[32m----> \u001b[39m\u001b[32m1\u001b[39m fig, ax = \u001b[43mplt\u001b[49m.subplots()\n\u001b[32m      2\u001b[39m ax.set_xlabel(\u001b[33m\"\u001b[39m\u001b[33mN\u001b[39m\u001b[33m\"\u001b[39m)\n\u001b[32m      3\u001b[39m ax.set_ylabel(\u001b[33m\"\u001b[39m\u001b[33mT(N)\u001b[39m\u001b[33m\"\u001b[39m)\n",
      "\u001b[31mNameError\u001b[39m: name 'plt' is not defined"
     ]
    }
   ],
   "source": [
    "fig, ax = plt.subplots()\n",
    "ax.set_xlabel(\"N\")\n",
    "ax.set_ylabel(\"T(N)\")\n",
    "ax.set_title(\"Size of Collatz sequence T(N) of each number N [to 10,000]\")\n",
    "plt.scatter(x, y)\n",
    "fig.tight_layout()\n",
    "fig = plt.figure(figsize=(50, 50))\n",
    "plt.show()"
   ]
  }
 ],
 "metadata": {
  "kernelspec": {
   "display_name": "pisika",
   "language": "python",
   "name": "python3"
  },
  "language_info": {
   "codemirror_mode": {
    "name": "ipython",
    "version": 3
   },
   "file_extension": ".py",
   "mimetype": "text/x-python",
   "name": "python",
   "nbconvert_exporter": "python",
   "pygments_lexer": "ipython3",
   "version": "3.13.5"
  }
 },
 "nbformat": 4,
 "nbformat_minor": 5
}
