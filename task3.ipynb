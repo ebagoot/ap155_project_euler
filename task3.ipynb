{
 "cells": [
  {
   "cell_type": "markdown",
   "id": "f4acfe32",
   "metadata": {},
   "source": []
  },
  {
   "cell_type": "markdown",
   "id": "b68bcdf1",
   "metadata": {},
   "source": [
    "# Problem 3 \n",
    "### [#955 in most recent](https://projecteuler.net/problem=955)\n",
    "\n",
    "A sequence $(a_n)_{n\\geq 0}$ starts with $a_0 = 3$ and for each $n \\geq 0$,\n",
    "\n",
    "if  is a triangle number, then ;\n",
    "otherwise, .\n",
    "The sequence begins:\n",
    "where triangle numbers are marked red.\n",
    "\n",
    "The th triangle number in the sequence is .\n",
    "Find the index  such that  is the th triangle number in the sequence."
   ]
  },
  {
   "cell_type": "markdown",
   "id": "311bf932",
   "metadata": {},
   "source": [
    "we have an index variable N and the corresponding number a_n.\n",
    "\n",
    "we generate a sequence that has three vital conditions:\n",
    "- check if the current number in the sequence is a triangle number.\n",
    "    - this number must be $$a_n \\in \\frac{1}{2}m(m+1)\\Bbb{Z}$$\n",
    "        in which the sequence starts with $m=2$\n",
    "    - if so, then the next number in the sequence is generated as $$a_{n+1} = a_n + 1$$\n",
    "    - \n",
    "- if the number is not a triangle number, it is then generated as $$a_{n+1} = 2a_n - a_{n-1} + 1$$\n",
    "- we can then include a counter stored in a local variable indicating how many triangle numbers\n",
    "the sequence includes.\n",
    "\n",
    "Optional: turn into list."
   ]
  },
  {
   "cell_type": "code",
   "execution_count": 3,
   "id": "1aa617f4",
   "metadata": {},
   "outputs": [],
   "source": [
    "import numpy as np"
   ]
  },
  {
   "cell_type": "code",
   "execution_count": null,
   "id": "808f1134",
   "metadata": {},
   "outputs": [
    {
     "ename": "NameError",
     "evalue": "name 'Type' is not defined",
     "output_type": "error",
     "traceback": [
      "\u001b[0;31m---------------------------------------------------------------------------\u001b[0m",
      "\u001b[0;31mNameError\u001b[0m                                 Traceback (most recent call last)",
      "Cell \u001b[0;32mIn[8], line 9\u001b[0m\n\u001b[1;32m      6\u001b[0m \u001b[38;5;28;01mdef\u001b[39;00m \u001b[38;5;21mpropagator\u001b[39m():\n\u001b[1;32m      7\u001b[0m     \u001b[38;5;28;01mpass\u001b[39;00m\n\u001b[0;32m----> 9\u001b[0m \u001b[38;5;28mprint\u001b[39m(Type(slider))\n\u001b[1;32m     11\u001b[0m \u001b[38;5;124;03m'''\u001b[39;00m\n\u001b[1;32m     12\u001b[0m \u001b[38;5;124;03mwhile (tri_count < tri_hunt):\u001b[39;00m\n\u001b[1;32m     13\u001b[0m \u001b[38;5;124;03m    if ():\u001b[39;00m\n\u001b[0;32m   (...)\u001b[0m\n\u001b[1;32m     17\u001b[0m \u001b[38;5;124;03m    N += 1\u001b[39;00m\n\u001b[1;32m     18\u001b[0m \u001b[38;5;124;03m'''\u001b[39;00m\n",
      "\u001b[0;31mNameError\u001b[0m: name 'Type' is not defined"
     ]
    }
   ],
   "source": [
    "#   Initialization\n",
    "slider = np.array([0, 3])\n",
    "tri_count = 0\n",
    "tri_hunt = 10           # index of the hunted triangle number.\n",
    "\n",
    "def tri_check(num):\n",
    "    num \n",
    "\n",
    "def propagator():\n",
    "    \n",
    "'''\n",
    "while (tri_count < tri_hunt):\n",
    "    if ():\n",
    "        num, count += 1 \n",
    "    else:\n",
    "        num = 2*num\n",
    "    N += 1\n",
    "'''\n"
   ]
  },
  {
   "cell_type": "code",
   "execution_count": null,
   "id": "503a7235",
   "metadata": {},
   "outputs": [],
   "source": []
  },
  {
   "cell_type": "code",
   "execution_count": null,
   "id": "bc45da43",
   "metadata": {},
   "outputs": [],
   "source": []
  }
 ],
 "metadata": {
  "kernelspec": {
   "display_name": "base",
   "language": "python",
   "name": "python3"
  },
  "language_info": {
   "codemirror_mode": {
    "name": "ipython",
    "version": 3
   },
   "file_extension": ".py",
   "mimetype": "text/x-python",
   "name": "python",
   "nbconvert_exporter": "python",
   "pygments_lexer": "ipython3",
   "version": "3.12.4"
  }
 },
 "nbformat": 4,
 "nbformat_minor": 5
}
